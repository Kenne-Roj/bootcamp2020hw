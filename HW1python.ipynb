{
 "cells": [
  {
   "cell_type": "code",
   "execution_count": 2,
   "metadata": {},
   "outputs": [],
   "source": [
    "from pathlib import Path\n",
    "import csv\n",
    "import pandas as pd\n",
    "import numpy as np"
   ]
  },
  {
   "cell_type": "code",
   "execution_count": 39,
   "metadata": {},
   "outputs": [
    {
     "name": "stdout",
     "output_type": "stream",
     "text": [
      "total: 38382578\n",
      "average change: $446309\n",
      "greatest increase is : Feb-2012 1170593\n",
      "greatest decrease is : Sep-2013 -1196225\n",
      "total months: 86\n"
     ]
    }
   ],
   "source": [
    "budgetdata = Path(\"./budget_data.csv\")\n",
    "menudata = Path('./menu_data.csv')\n",
    "salesdata = Path('./sales_data.csv')\n",
    "\n",
    "#initiate variables\n",
    "total_months = 0\n",
    "total_profitloss = []\n",
    "date = []\n",
    "avgPL = 0\n",
    "greatest_increase = 0\n",
    "greatest_decrease = 0\n",
    "current_revenue = 0\n",
    "\n",
    "with open(budgetdata, 'r') as file:\n",
    "   \n",
    "    csv_reader = csv.reader(file , delimiter = \",\")\n",
    "    header = next(csv_reader)\n",
    "    for row in csv_reader:\n",
    "        total_months += 1\n",
    "        current_revenue = int(row[1])\n",
    "        current_date = str(row[0])\n",
    "        date.append(current_date)\n",
    "#         print(type(current_revenue))\n",
    "        total_profitloss.append(current_revenue)\n",
    "#     print(total_profitloss)\n",
    "    sumtotal_PL = sum(total_profitloss)\n",
    "    print('total:', sumtotal_PL)\n",
    "    avgPL = sumtotal_PL / total_months\n",
    "    print('average change:', '$' + str(int(avgPL)))\n",
    "        \n",
    "    greatest_increase = max(total_profitloss)\n",
    "    month_greatest_increase = date[total_profitloss.index(greatest_increase)]\n",
    "    print('greatest increase is :',month_greatest_increase, greatest_increase)\n",
    "    greatest_decrease = min(total_profitloss)\n",
    "    month_min_increase = date[total_profitloss.index(greatest_decrease)]\n",
    "    print('greatest decrease is :',month_min_increase, greatest_decrease)\n",
    "        \n",
    "        \n",
    "        \n",
    "        \n",
    "    print('total months:', total_months)\n",
    "    \n",
    "\n",
    "    "
   ]
  },
  {
   "cell_type": "code",
   "execution_count": null,
   "metadata": {},
   "outputs": [],
   "source": []
  }
 ],
 "metadata": {
  "kernelspec": {
   "display_name": "Python 3",
   "language": "python",
   "name": "python3"
  },
  "language_info": {
   "codemirror_mode": {
    "name": "ipython",
    "version": 3
   },
   "file_extension": ".py",
   "mimetype": "text/x-python",
   "name": "python",
   "nbconvert_exporter": "python",
   "pygments_lexer": "ipython3",
   "version": "3.7.7"
  }
 },
 "nbformat": 4,
 "nbformat_minor": 4
}
